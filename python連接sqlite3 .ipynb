{
 "cells": [
  {
   "cell_type": "markdown",
   "metadata": {},
   "source": [
    "# 引入資料庫的套件"
   ]
  },
  {
   "cell_type": "code",
   "execution_count": 57,
   "metadata": {},
   "outputs": [
    {
     "name": "stdout",
     "output_type": "stream",
     "text": [
      "pra.db created successfully\n"
     ]
    }
   ],
   "source": [
    "import sqlite3\n",
    "conn = sqlite3.connect('pra.db')\n",
    "cursor = conn.cursor()\n",
    "\n",
    "print (\"pra.db created successfully\")\n",
    "conn.commit()\n",
    "cursor.close()\n",
    "conn.close()"
   ]
  },
  {
   "cell_type": "markdown",
   "metadata": {},
   "source": [
    "# 創建資料表與其內容"
   ]
  },
  {
   "cell_type": "code",
   "execution_count": 61,
   "metadata": {},
   "outputs": [
    {
     "name": "stdout",
     "output_type": "stream",
     "text": [
      "Opened database successfully\n",
      "Table test2 created successfully\n"
     ]
    }
   ],
   "source": [
    "conn = sqlite3.connect('pra.db')\n",
    "print (\"Opened database successfully\")\n",
    "cursor = conn.cursor()\n",
    "\n",
    "#creat table test2\n",
    "cursor.execute('''CREATE TABLE  IF NOT EXISTS test2\n",
    "        (id   INT PRIMARY KEY     NOT NULL,\n",
    "       name          varchar(8)    NOT NULL,\n",
    "       age         int(3)    NOT NULL,\n",
    "       gender      varchar(5)    NOT NULL,\n",
    "       email      varchar(29)    NOT NULL);''')\n",
    "print (\"Table test2 created successfully\")"
   ]
  },
  {
   "cell_type": "markdown",
   "metadata": {},
   "source": [
    "# 加入資料"
   ]
  },
  {
   "cell_type": "code",
   "execution_count": 63,
   "metadata": {},
   "outputs": [
    {
     "name": "stdout",
     "output_type": "stream",
     "text": [
      "Opened database successfully\n",
      "Records created successfully\n"
     ]
    }
   ],
   "source": [
    "conn = sqlite3.connect('pra.db')\n",
    "cursor = conn.cursor()\n",
    "print(\"Opened database successfully\")\n",
    "\n",
    "cursor.execute('''INSERT INTO test2 (id,name,age,gender,email) \n",
    "Values(01, 'Tim', 24, 'male','ede@yahoo.com.tw'),\n",
    "(02, 'apple',57,'female','fegv@gamil.com'),\n",
    "(03, 'tina',35,'female','gkv@gamil.com'),\n",
    "(04, 'ben',14,'male','loim@gamil.com'),\n",
    "(05, 'rita',59,'female','liae@gamil.com')''')\n",
    "conn.commit()\n",
    "print(\"Records created successfully\")\n",
    "#cursor.close()\n",
    "#conn.close()\n",
    "\n"
   ]
  },
  {
   "cell_type": "markdown",
   "metadata": {},
   "source": [
    "# 使用語法篩選資料"
   ]
  },
  {
   "cell_type": "code",
   "execution_count": 64,
   "metadata": {},
   "outputs": [
    {
     "name": "stdout",
     "output_type": "stream",
     "text": [
      "(1, 'Tim', 24, 'male', 'ede@yahoo.com.tw')\n",
      "(2, 'apple', 57, 'female', 'fegv@gamil.com')\n",
      "(3, 'tina', 35, 'female', 'gkv@gamil.com')\n",
      "(4, 'ben', 14, 'male', 'loim@gamil.com')\n",
      "(5, 'rita', 59, 'female', 'liae@gamil.com')\n"
     ]
    }
   ],
   "source": [
    "results = cursor.execute('''SELECT*  FROM test2 ''')\n",
    "for item in results:\n",
    "    print(item)"
   ]
  },
  {
   "cell_type": "code",
   "execution_count": 65,
   "metadata": {},
   "outputs": [
    {
     "name": "stdout",
     "output_type": "stream",
     "text": [
      "(2, 'apple', 57, 'female', 'fegv@gamil.com')\n",
      "(3, 'tina', 35, 'female', 'gkv@gamil.com')\n",
      "(5, 'rita', 59, 'female', 'liae@gamil.com')\n"
     ]
    }
   ],
   "source": [
    "cursor.execute('''select * from test2 where age >30''')\n",
    "for item in results:\n",
    "    print(item)"
   ]
  },
  {
   "cell_type": "code",
   "execution_count": 66,
   "metadata": {},
   "outputs": [
    {
     "name": "stdout",
     "output_type": "stream",
     "text": [
      "(2, 'apple', 57, 'female', 'fegv@gamil.com')\n"
     ]
    }
   ],
   "source": [
    "cursor.execute('''select * from test2 where age >30 limit 1''')\n",
    "for item in results:\n",
    "    print(item)"
   ]
  },
  {
   "cell_type": "code",
   "execution_count": 67,
   "metadata": {},
   "outputs": [
    {
     "name": "stdout",
     "output_type": "stream",
     "text": [
      "(5, 'rita', 59, 'female', 'liae@gamil.com')\n",
      "(2, 'apple', 57, 'female', 'fegv@gamil.com')\n",
      "(3, 'tina', 35, 'female', 'gkv@gamil.com')\n",
      "(1, 'Tim', 24, 'male', 'ede@yahoo.com.tw')\n",
      "(4, 'ben', 14, 'male', 'loim@gamil.com')\n"
     ]
    }
   ],
   "source": [
    "cursor.execute('''select * from test2 order by age desc''')\n",
    "for item in results:\n",
    "    print(item)"
   ]
  },
  {
   "cell_type": "code",
   "execution_count": 68,
   "metadata": {},
   "outputs": [
    {
     "name": "stdout",
     "output_type": "stream",
     "text": [
      "('female', 151)\n",
      "('male', 38)\n"
     ]
    }
   ],
   "source": [
    "cursor.execute('''select gender, sum(age) from test2 group by gender ''')\n",
    "for item in results:\n",
    "    print(item)"
   ]
  },
  {
   "cell_type": "code",
   "execution_count": null,
   "metadata": {},
   "outputs": [],
   "source": []
  }
 ],
 "metadata": {
  "kernelspec": {
   "display_name": "Python 3",
   "language": "python",
   "name": "python3"
  },
  "language_info": {
   "codemirror_mode": {
    "name": "ipython",
    "version": 3
   },
   "file_extension": ".py",
   "mimetype": "text/x-python",
   "name": "python",
   "nbconvert_exporter": "python",
   "pygments_lexer": "ipython3",
   "version": "3.8.3"
  }
 },
 "nbformat": 4,
 "nbformat_minor": 4
}
